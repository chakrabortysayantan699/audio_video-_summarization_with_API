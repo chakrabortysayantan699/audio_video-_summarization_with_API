{
 "cells": [
  {
   "cell_type": "code",
   "execution_count": 5,
   "id": "15ebbe7e",
   "metadata": {},
   "outputs": [],
   "source": [
    "import requests\n",
    "filename=\"./Images/Put_God.mp3\"\n",
    "api_key=\"c3bdd9c94ae843f58a20041b107b0bad\"\n",
    "upload_endpoint = 'https://api.assemblyai.com/v2/upload'\n",
    "\n",
    "def read_file(filename, chunk_size=5242880):\n",
    "    with open(filename, 'rb') as f:\n",
    "        while True:\n",
    "            data = f.read(chunk_size)\n",
    "            if not data:\n",
    "                break\n",
    "            yield data\n",
    "headers = {'authorization': api_key,'content-type': 'application/json'}\n",
    "response = requests.post(upload_endpoint,headers=headers,data=read_file(filename))\n",
    "audio_url = response.json()['upload_url']\n",
    "\n"
   ]
  },
  {
   "cell_type": "code",
   "execution_count": 6,
   "id": "4ef94cd2",
   "metadata": {},
   "outputs": [],
   "source": [
    "transcript_endpoint = \"https://api.assemblyai.com/v2/transcript\"\n",
    "\n",
    "response = requests.post(transcript_endpoint,\n",
    "                         headers=headers,\n",
    "                         json={\n",
    "                             \"audio_url\": audio_url,\n",
    "                             \"auto_chapters\": True\n",
    "                         })\n",
    "transcript_id = response.json()['id']"
   ]
  },
  {
   "cell_type": "code",
   "execution_count": 7,
   "id": "f4f68258",
   "metadata": {},
   "outputs": [
    {
     "name": "stdout",
     "output_type": "stream",
     "text": [
      "Status: completed\n",
      "Transcript Saved\n"
     ]
    }
   ],
   "source": [
    "import os\n",
    "import sys\n",
    "import time\n",
    "import json\n",
    "\n",
    "polling_endpoint = os.path.join(transcript_endpoint, transcript_id)\n",
    "status = ''\n",
    "while status != 'completed':\n",
    "    response_result = requests.get(\n",
    "        polling_endpoint,\n",
    "        headers=headers\n",
    "    )\n",
    "    status = response_result.json()['status']\n",
    "    print(f'Status: {status}')\n",
    "\n",
    "    if status == 'error':\n",
    "        sys.exit('Audio file failed to process.')\n",
    "    elif status != 'completed':\n",
    "        time.sleep(10)\n",
    "\n",
    "if status == 'completed':\n",
    "    filename = transcript_id + '.txt'\n",
    "    with open(filename, 'w') as f:\n",
    "        f.write(response_result.json()['text'])\n",
    "\n",
    "    filename = transcript_id + '_chapters.json'\n",
    "    with open(filename, 'w') as f:\n",
    "        chapters = response_result.json()['chapters']\n",
    "        json.dump(chapters, f, indent=4)\n",
    "\n",
    "    print('Transcript Saved')\n"
   ]
  },
  {
   "cell_type": "code",
   "execution_count": null,
   "id": "844e135a",
   "metadata": {},
   "outputs": [],
   "source": []
  }
 ],
 "metadata": {
  "kernelspec": {
   "display_name": "Python 3 (ipykernel)",
   "language": "python",
   "name": "python3"
  },
  "language_info": {
   "codemirror_mode": {
    "name": "ipython",
    "version": 3
   },
   "file_extension": ".py",
   "mimetype": "text/x-python",
   "name": "python",
   "nbconvert_exporter": "python",
   "pygments_lexer": "ipython3",
   "version": "3.8.10"
  }
 },
 "nbformat": 4,
 "nbformat_minor": 5
}
